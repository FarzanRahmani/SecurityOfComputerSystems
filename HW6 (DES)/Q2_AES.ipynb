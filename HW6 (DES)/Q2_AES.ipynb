{
  "cells": [
    {
      "cell_type": "markdown",
      "source": [
        "# Setting up necessary libraries, packages, and functions"
      ],
      "metadata": {
        "id": "9UdmVh5WvdbM"
      }
    },
    {
      "cell_type": "markdown",
      "source": [
        "## Installation"
      ],
      "metadata": {
        "id": "XByMcB8CvjXG"
      }
    },
    {
      "cell_type": "code",
      "source": [
        "!pip install pycryptodome"
      ],
      "metadata": {
        "colab": {
          "base_uri": "https://localhost:8080/"
        },
        "id": "ZATuJs72Pt6B",
        "outputId": "b1246791-1ec5-46ab-bb99-8e1b60e342d7"
      },
      "execution_count": 9,
      "outputs": [
        {
          "output_type": "stream",
          "name": "stdout",
          "text": [
            "Requirement already satisfied: pycryptodome in /usr/local/lib/python3.10/dist-packages (3.20.0)\n"
          ]
        }
      ]
    },
    {
      "cell_type": "markdown",
      "source": [
        "## import necessary libraries"
      ],
      "metadata": {
        "id": "1gUYcRHdvmBz"
      }
    },
    {
      "cell_type": "code",
      "execution_count": 10,
      "metadata": {
        "id": "uxSgxYPmxqDa"
      },
      "outputs": [],
      "source": [
        "from Crypto.Cipher import AES\n",
        "from Crypto.Util.Padding import pad, unpad\n",
        "from Crypto.Random import get_random_bytes"
      ]
    },
    {
      "cell_type": "markdown",
      "source": [
        "## define functions for encrypting and decrypting"
      ],
      "metadata": {
        "id": "X-enUubcvwO7"
      }
    },
    {
      "cell_type": "code",
      "source": [
        "def encrypt(message, key):\n",
        "    cipher = AES.new(key, AES.MODE_CBC)  # Create a new AES cipher object\n",
        "    iv = cipher.iv  # Initialization vector\n",
        "    ciphertext = cipher.encrypt(pad(message.encode('utf-8'), AES.block_size))  # Encrypt the message with padding\n",
        "    return iv + ciphertext  # Return the IV and the ciphertext\n",
        "\n",
        "    # # another possible way\n",
        "    # ciphertext, tag = cipher.encrypt_and_digest(message.encode('utf8'))\n",
        "    # return ciphertext, tag\n",
        "\n",
        "def decrypt(ciphertext, key):\n",
        "    iv = ciphertext[:16]  # Extract the IV from the beginning\n",
        "    cipher = AES.new(key, AES.MODE_CBC, iv)  # Create a new AES cipher object with the same IV\n",
        "    plaintext = unpad(cipher.decrypt(ciphertext[16:]), AES.block_size)  # Decrypt and unpad the message\n",
        "    return plaintext.decode('utf-8')\n",
        "\n",
        "    # decipher = AES.new(key, AES.MODE_EAX, cipher.nonce)\n",
        "    # plaintext = decipher.decrypt(ciphertext)\n",
        "    # try:\n",
        "    #     decipher.verify(tag)\n",
        "    #     # print(\"The message is authentic:\", plaintext)\n",
        "    #     return plaintext\n",
        "    # except ValueError:\n",
        "    #     print(\"Key incorrect or message corrupted\")"
      ],
      "metadata": {
        "id": "YbC_dp7cv1t3"
      },
      "execution_count": 11,
      "outputs": []
    },
    {
      "cell_type": "markdown",
      "source": [
        "# Example usage of AES"
      ],
      "metadata": {
        "id": "aCZwpKw9wb-4"
      }
    },
    {
      "cell_type": "markdown",
      "metadata": {
        "id": "8F7kJG_pxqDb"
      },
      "source": [
        "## Create a random key"
      ]
    },
    {
      "cell_type": "code",
      "execution_count": 12,
      "metadata": {
        "id": "NegGx3fRxqDb"
      },
      "outputs": [],
      "source": [
        "key = get_random_bytes(16)  # AES-128, so key is 16 bytes"
      ]
    },
    {
      "cell_type": "markdown",
      "source": [
        "## Type the message to be encrypted"
      ],
      "metadata": {
        "id": "NcFps8B_Qxyz"
      }
    },
    {
      "cell_type": "code",
      "source": [
        "# message = \"This is a secret message from Farzan Rahmani!\"\n",
        "message = input('Enter your message: ')"
      ],
      "metadata": {
        "colab": {
          "base_uri": "https://localhost:8080/"
        },
        "id": "MyL9BLx2QzHb",
        "outputId": "4d35df6f-8c61-474b-b011-8ad4e93b70bc"
      },
      "execution_count": 13,
      "outputs": [
        {
          "name": "stdout",
          "output_type": "stream",
          "text": [
            "Enter your message: This is a secret message from Farzan Rahmani!\n"
          ]
        }
      ]
    },
    {
      "cell_type": "markdown",
      "source": [
        "## Encrypt the message"
      ],
      "metadata": {
        "id": "78pZ8S1tw0M_"
      }
    },
    {
      "cell_type": "code",
      "source": [
        "encrypted_message = encrypt(message, key)\n",
        "print(f\">> Encrypted Message:\\n\\t{encrypted_message}\")"
      ],
      "metadata": {
        "colab": {
          "base_uri": "https://localhost:8080/"
        },
        "id": "XdDyNmZAw2Ym",
        "outputId": "2f6006aa-d726-4575-8739-fb55f2f8d46e"
      },
      "execution_count": 17,
      "outputs": [
        {
          "output_type": "stream",
          "name": "stdout",
          "text": [
            ">> Encrypted Message:\n",
            "\tb'\\xef\\xac\\xb2\\x8fU\\x82&\\xa3N\\x8c\\\\>\\x7f\\xdb\\x15N\\xc3\\xa0\\x83\\xb2\\x9dv\\xda\\x85\\r\\xde\\x1d\\xa6\\xb7\\xb0\\xf3p\\xbe\\xf2@\\x8e\\xdf\\xee\\xd9\\xcd.#\\xfe\\xae\\xd7\\xdf\\xf8S>v\\x10Bo=\\x14\\xb3\\xc4h\\xc1q\\x13\\x9d\\xf0\\x17'\n"
          ]
        }
      ]
    },
    {
      "cell_type": "markdown",
      "source": [
        "## Decrypt the message"
      ],
      "metadata": {
        "id": "OPmWDuwEw6l6"
      }
    },
    {
      "cell_type": "code",
      "source": [
        "decrypted_message = decrypt(encrypted_message, key)\n",
        "print(f\">> Decrypted Message:\\n\\t{decrypted_message}\")"
      ],
      "metadata": {
        "colab": {
          "base_uri": "https://localhost:8080/"
        },
        "id": "NPQrD_glw8Xp",
        "outputId": "d1a3cbc7-79a9-4f04-dff0-a74e80f04647"
      },
      "execution_count": 18,
      "outputs": [
        {
          "output_type": "stream",
          "name": "stdout",
          "text": [
            ">> Decrypted Message:\n",
            "\tThis is a secret message from Farzan Rahmani!\n"
          ]
        }
      ]
    }
  ],
  "metadata": {
    "kernelspec": {
      "display_name": "Python 3",
      "language": "python",
      "name": "python3"
    },
    "language_info": {
      "codemirror_mode": {
        "name": "ipython",
        "version": 3
      },
      "file_extension": ".py",
      "mimetype": "text/x-python",
      "name": "python",
      "nbconvert_exporter": "python",
      "pygments_lexer": "ipython3",
      "version": "3.8.0"
    },
    "orig_nbformat": 4,
    "colab": {
      "provenance": []
    }
  },
  "nbformat": 4,
  "nbformat_minor": 0
}